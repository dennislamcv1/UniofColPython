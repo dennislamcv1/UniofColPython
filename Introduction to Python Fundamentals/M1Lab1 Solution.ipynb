{
 "cells": [
  {
   "cell_type": "markdown",
   "source": "# Welcome to our first Lab Practice!",
   "metadata": {
    "id": "cnAUJprJdh9_",
    "cell_id": "cd015624-7862-4655-8f30-aaf160251264",
    "deepnote_cell_type": "markdown",
    "deepnote_cell_height": 82
   }
  },
  {
   "cell_type": "markdown",
   "source": "This lab is all about print() and we are going to print various messages on the screen. Are you ready? Let's get started!",
   "metadata": {
    "id": "vVYcayGedmms",
    "cell_id": "00001-10a60ac9-7095-4766-ab5c-013ce5217d6d",
    "deepnote_cell_type": "markdown",
    "deepnote_cell_height": 74
   }
  },
  {
   "cell_type": "markdown",
   "source": "You will find some small tasks in sections below. You should use print() and a proper choice of quotation marks to print the **message** on the screen.",
   "metadata": {
    "id": "JP8eGBVyeSQx",
    "cell_id": "00002-e559757c-9931-4bb0-8959-5447555e229f",
    "deepnote_cell_type": "markdown",
    "deepnote_cell_height": 74
   }
  },
  {
   "cell_type": "markdown",
   "source": "## Single quotations ' '",
   "metadata": {
    "id": "TNbXeCDFeAcJ",
    "cell_id": "00003-6bf8da02-540e-44cd-a880-e249bce4d777",
    "deepnote_cell_type": "markdown",
    "deepnote_cell_height": 70
   }
  },
  {
   "cell_type": "markdown",
   "source": "###Task: print message **Hello, world!**",
   "metadata": {
    "id": "EZ42d1Sue0Zp",
    "cell_id": "00004-602b84db-b83d-4798-96d0-4c4513b0ecbf",
    "deepnote_cell_type": "markdown",
    "deepnote_cell_height": 52
   }
  },
  {
   "cell_type": "code",
   "metadata": {
    "id": "yDzNIHsSeu85",
    "colab": {
     "base_uri": "https://localhost:8080/"
    },
    "executionInfo": {
     "status": "ok",
     "timestamp": 1636308785877,
     "user_tz": 420,
     "elapsed": 9,
     "user": {
      "displayName": "Di Wu",
      "photoUrl": "https://lh3.googleusercontent.com/a/default-user=s64",
      "userId": "05255951341257561169"
     }
    },
    "outputId": "77c8a104-7f6d-4707-edaf-dc452f9cd87a",
    "cell_id": "00005-1644ef4c-878a-4be1-b3fe-6c0ba20b4517",
    "deepnote_cell_type": "code",
    "deepnote_cell_height": 106.390625
   },
   "source": "print('Hello, world!')",
   "execution_count": 1,
   "outputs": [
    {
     "output_type": "stream",
     "name": "stdout",
     "text": "Hello, world!\n"
    }
   ]
  },
  {
   "cell_type": "markdown",
   "source": "###Task: print message **\"Hello, world!\"**\n\nNote: the **\" \"** is part of the message and it should be included in the message printed out.",
   "metadata": {
    "id": "-__o8ovbfSEH",
    "cell_id": "00006-cfadeb7f-7eaa-4969-9fc7-cbcaaa08ed27",
    "deepnote_cell_type": "markdown",
    "deepnote_cell_height": 89
   }
  },
  {
   "cell_type": "code",
   "metadata": {
    "id": "hOpxhSKog18Y",
    "colab": {
     "base_uri": "https://localhost:8080/"
    },
    "executionInfo": {
     "status": "ok",
     "timestamp": 1636308788318,
     "user_tz": 420,
     "elapsed": 206,
     "user": {
      "displayName": "Di Wu",
      "photoUrl": "https://lh3.googleusercontent.com/a/default-user=s64",
      "userId": "05255951341257561169"
     }
    },
    "outputId": "8192e1ae-8b65-4cc7-8f75-ca51da9220d0",
    "cell_id": "00007-cd150dc8-cde4-4e40-953f-6dcbce863d23",
    "deepnote_cell_type": "code",
    "deepnote_cell_height": 106.390625
   },
   "source": "print('\"Hello, world!\"')",
   "execution_count": 2,
   "outputs": [
    {
     "output_type": "stream",
     "name": "stdout",
     "text": "\"Hello, world!\"\n"
    }
   ]
  },
  {
   "cell_type": "markdown",
   "source": "###Task: print message **\"How are you?\"**\n\nNote: the **\" \"** is part of the message and it should be included in the message printed out.",
   "metadata": {
    "id": "NpCNxK68gpME",
    "cell_id": "00008-d866bbab-c298-47ed-a180-3026539c24f9",
    "deepnote_cell_type": "markdown",
    "deepnote_cell_height": 89
   }
  },
  {
   "cell_type": "code",
   "source": "print('\"How are you?\"')",
   "metadata": {
    "id": "txg-7uKfgKeW",
    "colab": {
     "base_uri": "https://localhost:8080/"
    },
    "executionInfo": {
     "status": "ok",
     "timestamp": 1636308803931,
     "user_tz": 420,
     "elapsed": 150,
     "user": {
      "displayName": "Di Wu",
      "photoUrl": "https://lh3.googleusercontent.com/a/default-user=s64",
      "userId": "05255951341257561169"
     }
    },
    "outputId": "0a948ddd-2350-4a69-da7b-d5917ec17a6d",
    "cell_id": "00009-fe17fa1a-1c1d-4dc7-8331-21ddcb8696c8",
    "deepnote_to_be_reexecuted": false,
    "source_hash": "3988c942",
    "execution_start": 1668550377152,
    "execution_millis": 6,
    "deepnote_cell_type": "code",
    "deepnote_cell_height": 106.390625
   },
   "execution_count": 1,
   "outputs": [
    {
     "name": "stdout",
     "text": "\"How are you?\"\n",
     "output_type": "stream"
    }
   ]
  },
  {
   "cell_type": "markdown",
   "source": "## Double quotations \" \"",
   "metadata": {
    "id": "D8pWdoN7d6Dy",
    "cell_id": "00010-dea5ec5d-b616-4855-8e55-07ae409fd13d",
    "deepnote_cell_type": "markdown",
    "deepnote_cell_height": 70
   }
  },
  {
   "cell_type": "markdown",
   "source": "###Task: print message **Hello, world!** (using \" \")",
   "metadata": {
    "id": "rXgbUIBRgQoG",
    "cell_id": "00011-36e722dc-826b-48b7-a12c-b8d9404dae07",
    "deepnote_cell_type": "markdown",
    "deepnote_cell_height": 52
   }
  },
  {
   "cell_type": "code",
   "metadata": {
    "id": "oIKwmW2mfe3d",
    "colab": {
     "base_uri": "https://localhost:8080/"
    },
    "executionInfo": {
     "status": "ok",
     "timestamp": 1636308814247,
     "user_tz": 420,
     "elapsed": 123,
     "user": {
      "displayName": "Di Wu",
      "photoUrl": "https://lh3.googleusercontent.com/a/default-user=s64",
      "userId": "05255951341257561169"
     }
    },
    "outputId": "3b7af23f-c000-45cb-f3b2-b9962acd8ccd",
    "cell_id": "00012-c72aedb5-e9e7-4260-b33e-8c156dc92be0",
    "deepnote_cell_type": "code",
    "deepnote_cell_height": 106.390625
   },
   "source": "print(\"Hello, world!\")",
   "execution_count": 4,
   "outputs": [
    {
     "output_type": "stream",
     "name": "stdout",
     "text": "Hello, world!\n"
    }
   ]
  },
  {
   "cell_type": "markdown",
   "source": "###Task: print message **I'm fine.**",
   "metadata": {
    "id": "QPoCScdkheK3",
    "cell_id": "00013-c3e4a096-474c-405c-8a1d-efaaa6748cfd",
    "deepnote_cell_type": "markdown",
    "deepnote_cell_height": 52
   }
  },
  {
   "cell_type": "code",
   "metadata": {
    "id": "tsFowDAKhJCB",
    "colab": {
     "base_uri": "https://localhost:8080/"
    },
    "executionInfo": {
     "status": "ok",
     "timestamp": 1636308837325,
     "user_tz": 420,
     "elapsed": 200,
     "user": {
      "displayName": "Di Wu",
      "photoUrl": "https://lh3.googleusercontent.com/a/default-user=s64",
      "userId": "05255951341257561169"
     }
    },
    "outputId": "14683b0a-694f-4eaa-e54b-8c2ffb5d30ce",
    "cell_id": "00014-85aae299-7021-431f-91f3-a353438d4bd5",
    "deepnote_cell_type": "code",
    "deepnote_cell_height": 106.390625
   },
   "source": "print(\"I'm fine.\")",
   "execution_count": 5,
   "outputs": [
    {
     "output_type": "stream",
     "name": "stdout",
     "text": "I'm fine.\n"
    }
   ]
  },
  {
   "cell_type": "markdown",
   "source": "###Task: print message **It's a great day!**",
   "metadata": {
    "id": "TE6Df1WYhu10",
    "cell_id": "00015-0bf5368e-b547-46f0-aa88-e6cec00482f1",
    "deepnote_cell_type": "markdown",
    "deepnote_cell_height": 52
   }
  },
  {
   "cell_type": "code",
   "metadata": {
    "id": "MSjQbhNXhJVV",
    "colab": {
     "base_uri": "https://localhost:8080/"
    },
    "executionInfo": {
     "status": "ok",
     "timestamp": 1636308877442,
     "user_tz": 420,
     "elapsed": 185,
     "user": {
      "displayName": "Di Wu",
      "photoUrl": "https://lh3.googleusercontent.com/a/default-user=s64",
      "userId": "05255951341257561169"
     }
    },
    "outputId": "0ef98282-8ced-48a4-88f3-18a38387678f",
    "cell_id": "00016-b5020f44-9ccd-4d31-b4db-074f361e7883",
    "deepnote_cell_type": "code",
    "deepnote_cell_height": 106.390625
   },
   "source": "print(\"It's a great day!\")",
   "execution_count": 6,
   "outputs": [
    {
     "output_type": "stream",
     "name": "stdout",
     "text": "It's a great day!\n"
    }
   ]
  },
  {
   "cell_type": "markdown",
   "source": "## Triple quotations ''' '''",
   "metadata": {
    "id": "0dZCPuYjeDqi",
    "cell_id": "00017-9aa8d187-a22c-46e4-ad83-0ffdf360bbec",
    "deepnote_cell_type": "markdown",
    "deepnote_cell_height": 70
   }
  },
  {
   "cell_type": "markdown",
   "source": "###Task: print the poem below\n\n**This**\n\n**is**\n\n**a**\n\n**poem**",
   "metadata": {
    "id": "f-zusksziv_N",
    "cell_id": "00018-ad71dbc4-283f-4067-b434-c1880a327bcc",
    "deepnote_cell_type": "markdown",
    "deepnote_cell_height": 198
   }
  },
  {
   "cell_type": "code",
   "metadata": {
    "id": "rVF4T_pwhKMM",
    "colab": {
     "base_uri": "https://localhost:8080/"
    },
    "executionInfo": {
     "status": "ok",
     "timestamp": 1636308894719,
     "user_tz": 420,
     "elapsed": 181,
     "user": {
      "displayName": "Di Wu",
      "photoUrl": "https://lh3.googleusercontent.com/a/default-user=s64",
      "userId": "05255951341257561169"
     }
    },
    "outputId": "3b945212-ebf8-4ae2-badf-7e4f9099d0b6",
    "cell_id": "00019-20ac8a25-3955-46cf-be62-3a8443352010",
    "deepnote_cell_type": "code",
    "deepnote_cell_height": 258.390625
   },
   "source": "print('''\nThis\nis\na\npoem''')",
   "execution_count": 7,
   "outputs": [
    {
     "output_type": "stream",
     "name": "stdout",
     "text": "\nThis\nis\na\npoem\n"
    }
   ]
  },
  {
   "cell_type": "markdown",
   "source": "###Task: print the paragraph below\n\n**This is a multi-line**\n\n**documentary. It consists**\n\n**several sentences and**\n\n**might be pages long.**",
   "metadata": {
    "id": "yls-7KE6kA7o",
    "cell_id": "00020-caea5112-0226-4def-9cfe-0136c6e55c50",
    "deepnote_cell_type": "markdown",
    "deepnote_cell_height": 197.59375
   }
  },
  {
   "cell_type": "code",
   "metadata": {
    "id": "ZZ1XEd29kAIR",
    "colab": {
     "base_uri": "https://localhost:8080/"
    },
    "executionInfo": {
     "status": "ok",
     "timestamp": 1636308916731,
     "user_tz": 420,
     "elapsed": 349,
     "user": {
      "displayName": "Di Wu",
      "photoUrl": "https://lh3.googleusercontent.com/a/default-user=s64",
      "userId": "05255951341257561169"
     }
    },
    "outputId": "5c503b41-f202-461c-b12c-65af11393ec0",
    "cell_id": "00021-a47cb69e-ba21-40e6-83a7-68fe55355977",
    "deepnote_cell_type": "code",
    "deepnote_cell_height": 258.390625
   },
   "source": "print('''\nThis is a multi-line\ndocumentary. It consists\nseveral sentences and\nmight be pages long.''')",
   "execution_count": 8,
   "outputs": [
    {
     "output_type": "stream",
     "name": "stdout",
     "text": "\nThis is a multi-line\ndocumentary. It consists\nseveral sentences and\nmight be pages long.\n"
    }
   ]
  },
  {
   "cell_type": "markdown",
   "source": "## Combinations of quotations",
   "metadata": {
    "id": "DsOakqGCeK7V",
    "cell_id": "00022-a604f04e-aa59-4d88-9d52-20bef8832f3a",
    "deepnote_cell_type": "markdown",
    "deepnote_cell_height": 69.59375
   }
  },
  {
   "cell_type": "markdown",
   "source": "###Task: print the dialog below\n\n**\"How are you?\"**\n\n**\"I'm fine.\"**\n\n**\"It's a great day!\"**",
   "metadata": {
    "id": "4iCITSR6h7Yv",
    "cell_id": "00023-3b26801a-4baf-4df7-9490-6ae1ef80e47f",
    "deepnote_cell_type": "markdown",
    "deepnote_cell_height": 161.1875
   }
  },
  {
   "cell_type": "code",
   "metadata": {
    "id": "EKsuK9O6jW7D",
    "colab": {
     "base_uri": "https://localhost:8080/"
    },
    "executionInfo": {
     "status": "ok",
     "timestamp": 1636308950156,
     "user_tz": 420,
     "elapsed": 125,
     "user": {
      "displayName": "Di Wu",
      "photoUrl": "https://lh3.googleusercontent.com/a/default-user=s64",
      "userId": "05255951341257561169"
     }
    },
    "outputId": "4c6620e7-c7b3-453b-f5e1-b587b141fd31",
    "cell_id": "00024-2ebd529d-c3c1-432a-9700-7ac48a1bcdfa",
    "deepnote_cell_type": "code",
    "deepnote_cell_height": 220.390625
   },
   "source": "print('''\n\"How are you?\"\n\"I'm fine.\"\n\"It's a great day!\"''')",
   "execution_count": 10,
   "outputs": [
    {
     "output_type": "stream",
     "name": "stdout",
     "text": "\n\"How are you?\"\n\"I'm fine.\"\n\"It's a great day!\"\n"
    }
   ]
  },
  {
   "cell_type": "markdown",
   "source": "<a style='text-decoration:none;line-height:16px;display:flex;color:#5B5B62;padding:10px;justify-content:end;' href='https://deepnote.com?utm_source=created-in-deepnote-cell&projectId=2b6eba60-d2c6-45d9-bd74-b31d4a529293' target=\"_blank\">\n<img alt='Created in deepnote.com' style='display:inline;max-height:16px;margin:0px;margin-right:7.5px;' src='data:image/svg+xml;base64,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' > </img>\nCreated in <span style='font-weight:600;margin-left:4px;'>Deepnote</span></a>",
   "metadata": {
    "tags": [],
    "created_in_deepnote_cell": true,
    "deepnote_cell_type": "markdown"
   }
  }
 ],
 "nbformat": 4,
 "nbformat_minor": 0,
 "metadata": {
  "colab": {
   "name": "M1Lab1 Solution.ipynb",
   "provenance": [
    {
     "file_id": "1FNpqO7T5gCb9NECELpjx3_EwkfChbh4Z",
     "timestamp": 1636308695908
    }
   ],
   "toc_visible": true,
   "authorship_tag": "ABX9TyOmppMkSTnZyuYjwHaBhKYj"
  },
  "kernelspec": {
   "name": "python3",
   "display_name": "Python 3"
  },
  "language_info": {
   "name": "python"
  },
  "deepnote_notebook_id": "9984d5dc-fbda-4de2-b854-13efba8b0623",
  "deepnote": {},
  "deepnote_execution_queue": []
 }
}
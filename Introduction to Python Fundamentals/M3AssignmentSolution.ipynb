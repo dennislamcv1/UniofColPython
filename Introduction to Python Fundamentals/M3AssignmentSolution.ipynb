{
  "nbformat": 4,
  "nbformat_minor": 0,
  "metadata": {
    "colab": {
      "provenance": [],
      "collapsed_sections": [],
      "toc_visible": true
    },
    "kernelspec": {
      "name": "python3",
      "display_name": "Python 3"
    },
    "language_info": {
      "name": "python"
    }
  },
  "cells": [
    {
      "cell_type": "markdown",
      "metadata": {
        "id": "cnAUJprJdh9_"
      },
      "source": [
        "# Welcome to our third assignment!"
      ]
    },
    {
      "cell_type": "markdown",
      "metadata": {
        "id": "vVYcayGedmms"
      },
      "source": [
        "This assignment is about testing your understanding of flow control: branching.\n",
        "\n",
        "We are going to create some simple programs using these tools. Are you ready? Let's get started!"
      ]
    },
    {
      "cell_type": "markdown",
      "metadata": {
        "id": "JP8eGBVyeSQx"
      },
      "source": [
        "You will find some small tasks in sections below. You should use input() to get the user to enter the information and use print() to print the information on the screen. At this moment, we can assume users will follow instructions carefully - they will enter the valid inputs as required."
      ]
    },
    {
      "cell_type": "markdown",
      "metadata": {
        "id": "TNbXeCDFeAcJ"
      },
      "source": [
        "## What day is today?\n",
        "\n",
        "###Instruction: Write a program that asks the user for a number in the range of 1 through 7. The program should display the corresponding day of the week, where \n",
        "\n",
        "* 1    = Monday, \n",
        "* 2    = Tuesday, \n",
        "* 3    = Wednesday, \n",
        "* 4    = Thursday, \n",
        "* 5    = Friday, \n",
        "* 6    = Saturday, and \n",
        "* 7    = Sunday\n",
        "* all other value entered = ERROR"
      ]
    },
    {
      "cell_type": "code",
      "metadata": {
        "id": "x6IbZ6rFw76O",
        "colab": {
          "base_uri": "https://localhost:8080/"
        },
        "outputId": "4176c537-fb0f-43a8-ed15-2ba4461057c5"
      },
      "source": [
        "day = input('What day is today? 1 - 7:')\n",
        "if day == '1':\n",
        "  print('Monday')\n",
        "elif day == '2':\n",
        "  print('Tuesday')\n",
        "elif day == '3':\n",
        "  print('Wednesday')\n",
        "elif day == '4':\n",
        "  print('Thursday')\n",
        "elif day == '5':\n",
        "  print('Friday')\n",
        "elif day == '6':\n",
        "  print('Saturday')\n",
        "elif day == '7':\n",
        "  print('Sunday')\n",
        "else:\n",
        "  print('ERROR')"
      ],
      "execution_count": null,
      "outputs": [
        {
          "output_type": "stream",
          "name": "stdout",
          "text": [
            "What day is today? 1 - 7:4\n",
            "Thursday\n"
          ]
        }
      ]
    },
    {
      "cell_type": "markdown",
      "metadata": {
        "id": "fZfiqg5lxFKF"
      },
      "source": [
        "## Tax Calculator\n",
        "\n",
        "###Instruction: You are going to program a  simple tax calculator.\n",
        "\n",
        "step1: Ask the user to enter the gross income of year 2022.\n",
        "\n",
        "step2: Calculate the tax based on following formula:\n",
        "\n",
        "1.   Less than \\$100,000, one pays just 1%\n",
        "2.   More than \\$100,000 one pays 5%\n",
        "3.   More than \\$500,000 then one pays 5% tax on the first 500,000 and 2 cents for every dollar above 500,000\n",
        "\n",
        "step3: Print the tax amount on the screen."
      ]
    },
    {
      "cell_type": "code",
      "metadata": {
        "id": "2bODNGPSx1-m",
        "colab": {
          "base_uri": "https://localhost:8080/"
        },
        "outputId": "b6a0356b-d1cb-4c38-cb5c-dac65533347f"
      },
      "source": [
        "income = float(input('What is the gross income of year 2022? '))\n",
        "if income < 100000:\n",
        "  tax = income * 0.01\n",
        "elif income < 500000:\n",
        "  tax = income * 0.05\n",
        "else:\n",
        "  tax = 500000 * 0.05 + 0.02 * (income - 500000)\n",
        "\n",
        "print(\"The tax is\", tax)"
      ],
      "execution_count": 1,
      "outputs": [
        {
          "output_type": "stream",
          "name": "stdout",
          "text": [
            "What is the gross income of year 2022? 600000\n",
            "The tax is 27000.0\n"
          ]
        }
      ]
    },
    {
      "cell_type": "markdown",
      "metadata": {
        "id": "cZmW-HnwyHcI"
      },
      "source": [
        "## A Simple Calculator\n",
        "\n",
        "###Instruction: You are going to program a super simple Calcualtor.\n",
        "\n",
        "step1: Ask the user to enter the first number, store it in x\n",
        "\n",
        "step2: Ask the user to enter the second number, store it in y \n",
        "\n",
        "step3: Ask the user to enter the operator, store it in p\n",
        "\n",
        "step4: Calculate the result of x p y.\n",
        "\n",
        "For example, if the user entered 2, 3, and +, you should print 2.0 + 3.0 = 5.0 on the screen"
      ]
    },
    {
      "cell_type": "code",
      "metadata": {
        "id": "wk6FHvAvyr_G",
        "colab": {
          "base_uri": "https://localhost:8080/"
        },
        "outputId": "d0cde3f5-2dbb-4f3f-e8be-78b17478975d"
      },
      "source": [
        "x = float(input('Enter the first number: '))\n",
        "y = float(input('Enter the second number: '))\n",
        "operator = input('Please enter the operator (one of +, -, *, /)')\n",
        "if operator == '+':\n",
        "  print(x,operator,y,'=',x + y)\n",
        "elif operator == '-':\n",
        "  print(x,operator,y,'=',x - y)\n",
        "elif operator == '*':\n",
        "  print(x,operator,y,'=',x * y)\n",
        "elif operator == '/':\n",
        "  print(x,operator,y,'=',x / y)"
      ],
      "execution_count": null,
      "outputs": [
        {
          "output_type": "stream",
          "name": "stdout",
          "text": [
            "Enter the first number: 3\n",
            "Enter the second number: 4\n",
            "Please enter the operator (one of +, -, *, /)+\n",
            "3.0 + 4.0 = 7.0\n"
          ]
        }
      ]
    },
    {
      "cell_type": "markdown",
      "metadata": {
        "id": "auP4vt99EOJx"
      },
      "source": [
        "## Taxi Fare Calculator\n",
        "\n",
        "###Instruction: You are going to program a simple Calcualtor for a taxi.\n",
        "\n",
        "step1: Ask the driver to enter total miles, store it in m\n",
        "\n",
        "step2: Calculate the fare based on the formular\n",
        "\n",
        "*   if m < 10, fare is \\$5\n",
        "*   if 10 <= m < 20, fare is \\$5 plus \\$1 for every mile beyond 10.\n",
        "*   if m >= 20, fare is \\$5 plus \\$1.5 for every mile beyond 10\n",
        "\n",
        "step3: print the fare.\n"
      ]
    },
    {
      "cell_type": "code",
      "metadata": {
        "id": "3sEH96OkGAzR",
        "colab": {
          "base_uri": "https://localhost:8080/"
        },
        "outputId": "bd51c11f-b8a4-48ec-cdf4-371a1a95658a"
      },
      "source": [
        "m = float(input('Enter the total miles: '))\n",
        "if m < 10:\n",
        "  fare = 5\n",
        "elif m < 20:\n",
        "  fare = 5 + (m - 10)\n",
        "else:\n",
        "  fare = 5 + 1.5 * (m - 10)\n",
        "\n",
        "print('The fare is: ', fare)"
      ],
      "execution_count": null,
      "outputs": [
        {
          "output_type": "stream",
          "name": "stdout",
          "text": [
            "Enter the total miles: 12\n",
            "The fare is:  7.0\n"
          ]
        }
      ]
    },
    {
      "cell_type": "markdown",
      "metadata": {
        "id": "ylesrgONGCbf"
      },
      "source": [
        "## Flash Shipping charges\n",
        "\n",
        "###Instruction: You are going to program a shipping charge calculator for a deliver company - Flash Shipping.\n",
        "\n",
        "The rate of delivery is as below\n",
        "\n",
        "| Weight of Package | Domestic Rate Per Pound | International Rate Per Pound |\n",
        "| --- | --- | --- |\n",
        "| 2 lbs or less | \\$1.5 | \\$5.0 |\n",
        "| More than 2 lbs but no more than 6 lbs | \\$2.5 | \\$7.0 |\n",
        "| Morethan 6 lbs but no more than 20 lbs | \\$3.5 | \\$10.0 |\n",
        "| More than 20 lbs | \\$5.0 | \\$15.0 |\n",
        "\n",
        "step1: Ask the user to enter the weight of the package, and the destination (domistic or international)\n",
        "\n",
        "step2: Calculate the shipping charge based on the rate\n",
        "\n",
        "step3: print the charge.\n"
      ]
    },
    {
      "cell_type": "code",
      "metadata": {
        "id": "PntyPGzNHiYw",
        "colab": {
          "base_uri": "https://localhost:8080/"
        },
        "outputId": "746a9432-4af6-43f9-eaf7-9c6262da7d4d"
      },
      "source": [
        "weight = float(input('Enter the weight of the package: '))\n",
        "destination = input('Is the destination domestic or international? (Enter domestic or international)? ')\n",
        "if destination == 'domestic':\n",
        "  if weight <= 2:\n",
        "    charge = 1.5 * weight\n",
        "  elif weight <= 6:\n",
        "    charge = 2.5 * weight\n",
        "  elif weight <= 20:\n",
        "    charge = 3.5 * weight\n",
        "  else:\n",
        "    charge = 5.0 * weight\n",
        "elif destination == 'international':\n",
        "  if weight <= 2:\n",
        "    charge = 5.0 * weight\n",
        "  elif weight <= 6:\n",
        "    charge = 7.0 * weight\n",
        "  elif weight <= 20:\n",
        "    charge = 10.0 * weight\n",
        "  else:\n",
        "    charge = 15.0 * weight\n",
        "\n",
        "print('The charge is:',charge)"
      ],
      "execution_count": 2,
      "outputs": [
        {
          "output_type": "stream",
          "name": "stdout",
          "text": [
            "Enter the weight of the package: 36\n",
            "Is the destination domestic or international? (Enter domestic or international)? domestic\n",
            "The charge is: 180.0\n"
          ]
        }
      ]
    },
    {
      "cell_type": "markdown",
      "metadata": {
        "id": "7Ysdu7UJ_qf8"
      },
      "source": [
        "**Congratulations! You finished this Assignment and completed Module 3!**"
      ]
    }
  ]
}